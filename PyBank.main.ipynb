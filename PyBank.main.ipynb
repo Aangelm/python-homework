{
 "cells": [
  {
   "cell_type": "code",
   "execution_count": 186,
   "id": "e4fd7e30-ae8a-493c-bef7-926d82651352",
   "metadata": {},
   "outputs": [],
   "source": [
    "import pandas as pd\n",
    "from pathlib import Path\n",
    "csv_path = Path(\"Python Homework/PyBank/PyBank.main.ipynb/budget_data.csv\")"
   ]
  },
  {
   "cell_type": "code",
   "execution_count": 187,
   "id": "3ebe94c4-1973-4c35-964a-cd9e5d1002e5",
   "metadata": {},
   "outputs": [],
   "source": [
    "csvpath = Path(\"Python Homework/PyBank/PyBank.main.ipynb/budget_data.csv\")"
   ]
  },
  {
   "cell_type": "code",
   "execution_count": 188,
   "id": "e75ceb1f-14c1-4e98-ba0a-de8be531591d",
   "metadata": {},
   "outputs": [
    {
     "data": {
      "text/html": [
       "<div>\n",
       "<style scoped>\n",
       "    .dataframe tbody tr th:only-of-type {\n",
       "        vertical-align: middle;\n",
       "    }\n",
       "\n",
       "    .dataframe tbody tr th {\n",
       "        vertical-align: top;\n",
       "    }\n",
       "\n",
       "    .dataframe thead th {\n",
       "        text-align: right;\n",
       "    }\n",
       "</style>\n",
       "<table border=\"1\" class=\"dataframe\">\n",
       "  <thead>\n",
       "    <tr style=\"text-align: right;\">\n",
       "      <th></th>\n",
       "      <th>Date</th>\n",
       "      <th>Profit/Losses</th>\n",
       "    </tr>\n",
       "  </thead>\n",
       "  <tbody>\n",
       "    <tr>\n",
       "      <th>0</th>\n",
       "      <td>Jan-2010</td>\n",
       "      <td>867884</td>\n",
       "    </tr>\n",
       "    <tr>\n",
       "      <th>1</th>\n",
       "      <td>Feb-2010</td>\n",
       "      <td>984655</td>\n",
       "    </tr>\n",
       "    <tr>\n",
       "      <th>2</th>\n",
       "      <td>Mar-2010</td>\n",
       "      <td>322013</td>\n",
       "    </tr>\n",
       "    <tr>\n",
       "      <th>3</th>\n",
       "      <td>Apr-2010</td>\n",
       "      <td>-69417</td>\n",
       "    </tr>\n",
       "    <tr>\n",
       "      <th>4</th>\n",
       "      <td>May-2010</td>\n",
       "      <td>310503</td>\n",
       "    </tr>\n",
       "  </tbody>\n",
       "</table>\n",
       "</div>"
      ],
      "text/plain": [
       "       Date  Profit/Losses\n",
       "0  Jan-2010         867884\n",
       "1  Feb-2010         984655\n",
       "2  Mar-2010         322013\n",
       "3  Apr-2010         -69417\n",
       "4  May-2010         310503"
      ]
     },
     "execution_count": 188,
     "metadata": {},
     "output_type": "execute_result"
    }
   ],
   "source": [
    "budget_dataframe = pd.read_csv(\"budget_data.csv\")\n",
    "budget_dataframe.head()"
   ]
  },
  {
   "cell_type": "code",
   "execution_count": 189,
   "id": "38eac47b-9eea-4f4b-be78-b06d23aa8504",
   "metadata": {},
   "outputs": [],
   "source": [
    "count = 0\n",
    "total = 0\n",
    "average = 0\n",
    "maximum = 0\n",
    "minimum = 0"
   ]
  },
  {
   "cell_type": "code",
   "execution_count": 190,
   "id": "70c4b2b4-d641-49aa-90f0-bbd15b2f7588",
   "metadata": {},
   "outputs": [],
   "source": [
    "total_months = []\n",
    "total_pnl = []\n",
    "profitable_months = []\n",
    "unprofitable_months = []"
   ]
  },
  {
   "cell_type": "code",
   "execution_count": 191,
   "id": "1733c1ed-69c0-4499-82e6-d248e06d36d8",
   "metadata": {},
   "outputs": [
    {
     "data": {
      "text/plain": [
       "<bound method Series.unique of 0     Jan-2010\n",
       "1     Feb-2010\n",
       "2     Mar-2010\n",
       "3     Apr-2010\n",
       "4     May-2010\n",
       "        ...   \n",
       "81    Oct-2016\n",
       "82    Nov-2016\n",
       "83    Dec-2016\n",
       "84    Jan-2017\n",
       "85    Feb-2017\n",
       "Name: Date, Length: 86, dtype: object>"
      ]
     },
     "execution_count": 191,
     "metadata": {},
     "output_type": "execute_result"
    }
   ],
   "source": [
    "budget_dataframe['Date'].unique"
   ]
  },
  {
   "cell_type": "code",
   "execution_count": 192,
   "id": "dea9711d-9379-4eba-9e00-e34e3d3f9c54",
   "metadata": {},
   "outputs": [],
   "source": [
    "total_pnl = [867884, 984655, 322013 -69417, 310503, 522857, 1033096, 604885, -216386, 477532, 893810, -80353, 779806, -335203, 697845, 793163, 485070, 584122, 62729, 668179, 899906, 834719,\n",
    "132003,\n",
    "309978,\n",
    "-755566,\n",
    "1170593,\n",
    "252788,\n",
    "1151518,\n",
    "817256,\n",
    "570757,\n",
    "506702,\n",
    "-1022534,\n",
    "475062,\n",
    "779976,\n",
    "144175,\n",
    "542494,\n",
    "359333,\n",
    "321469,\n",
    "67780,\n",
    "471435,\n",
    "565603,\n",
    "872480,\n",
    "789480,\n",
    "999942,\n",
    "-1196225,\n",
    "268997,\n",
    "-687986,\n",
    "1150461,\n",
    "682458,\n",
    "617856,\n",
    "824098,\n",
    "581943,\n",
    "132864,\n",
    "448062,\n",
    "689161,\n",
    "800701,\n",
    "1166643,\n",
    "947333,\n",
    "578668,\n",
    "988505,\n",
    "1139715,\n",
    "1029471,\n",
    "687533,\n",
    "-524626,\n",
    "158620,\n",
    "87795,\n",
    "423389,\n",
    "840723,\n",
    "568529,\n",
    "332067,\n",
    "989499,\n",
    "778237,\n",
    "650000,\n",
    "-1100387,\n",
    "-174946,\n",
    "757143,\n",
    "445709,\n",
    "712961,\n",
    "-1163797,\n",
    "569899,\n",
    "768450,\n",
    "102685,\n",
    "795914,\n",
    "60988,\n",
    "138230,\n",
    "671099]\n"
   ]
  },
  {
   "cell_type": "code",
   "execution_count": 193,
   "id": "73f27be8-8fe0-40bf-af68-78769123c3f9",
   "metadata": {},
   "outputs": [],
   "source": [
    "for net_total in total_pnl:\n",
    "    total += net_total\n",
    "    count += 1    "
   ]
  },
  {
   "cell_type": "code",
   "execution_count": 194,
   "id": "03afc0f8-46d4-4270-8fa4-bd7b9a1ee728",
   "metadata": {},
   "outputs": [],
   "source": [
    "if minimum == 0:\n",
    "        minimum = net_total\n",
    "elif net_total < minimum:\n",
    "    minimum = net_total\n",
    "elif net_total > maximum:\n",
    "        maximum = net_total"
   ]
  },
  {
   "cell_type": "code",
   "execution_count": 195,
   "id": "ae5773ad-f3cf-4184-a927-ee53ddb1d909",
   "metadata": {},
   "outputs": [],
   "source": [
    "if net_total > 0:\n",
    "        profitable_months.append(net_total)\n",
    "elif net_total <= 0:\n",
    "        unprofitable_months.append(net_total)"
   ]
  },
  {
   "cell_type": "code",
   "execution_count": 196,
   "id": "4dbf19e3-5fa5-4b57-b9e3-676c06d37a88",
   "metadata": {},
   "outputs": [],
   "source": [
    "average = round(total / count, 2)"
   ]
  },
  {
   "cell_type": "code",
   "execution_count": 197,
   "id": "cd6fefb3-0b29-45fb-b404-5d2dc08224b6",
   "metadata": {},
   "outputs": [],
   "source": [
    "profitable_count = len(profitable_months)\n",
    "unprofitable_count = len(unprofitable_months)"
   ]
  },
  {
   "cell_type": "code",
   "execution_count": 198,
   "id": "97415591-783b-41d5-9a2c-4856eec0d042",
   "metadata": {},
   "outputs": [],
   "source": [
    "percent_profitable = profitable_count / count * 100\n",
    "percent_unprofitable = unprofitable_count / count * 100"
   ]
  },
  {
   "cell_type": "code",
   "execution_count": 199,
   "id": "4aa5b02e-c0e4-45f3-8001-108b3ad3ecc6",
   "metadata": {},
   "outputs": [
    {
     "name": "stdout",
     "output_type": "stream",
     "text": [
      "---------Summary Statistics----------\n",
      "_______________________________________\n"
     ]
    }
   ],
   "source": [
    "print(\"---------Summary Statistics----------\")\n",
    "print(\"_______________________________________\")"
   ]
  },
  {
   "cell_type": "code",
   "execution_count": 200,
   "id": "be0fe4e2-f20b-4877-bf5e-0c833b854832",
   "metadata": {},
   "outputs": [
    {
     "data": {
      "text/plain": [
       "<bound method Series.unique of 0     Jan-2010\n",
       "1     Feb-2010\n",
       "2     Mar-2010\n",
       "3     Apr-2010\n",
       "4     May-2010\n",
       "        ...   \n",
       "81    Oct-2016\n",
       "82    Nov-2016\n",
       "83    Dec-2016\n",
       "84    Jan-2017\n",
       "85    Feb-2017\n",
       "Name: Date, Length: 86, dtype: object>"
      ]
     },
     "execution_count": 200,
     "metadata": {},
     "output_type": "execute_result"
    }
   ],
   "source": [
    "budget_dataframe['Date'].unique"
   ]
  },
  {
   "cell_type": "code",
   "execution_count": null,
   "id": "1acef3d0-7888-4e4c-bacc-2ff0f7d07a19",
   "metadata": {},
   "outputs": [],
   "source": []
  },
  {
   "cell_type": "code",
   "execution_count": 216,
   "id": "1de06910-5810-43b3-a6de-931906c318ff",
   "metadata": {},
   "outputs": [
    {
     "name": "stdout",
     "output_type": "stream",
     "text": [
      "Total Number of Months: 85\n",
      "Net Total: 38382578\n",
      "Average Change: 451559.74\n",
      "Greatest Decrease In Profits: 671099\n",
      "Greatest Increase In Profits: 0\n"
     ]
    }
   ],
   "source": [
    "print(f\"Total Number of Months: {count}\")\n",
    "print(f\"Net Total: {total}\")\n",
    "print(f\"Average Change: {average}\")\n",
    "print(f\"Greatest Decrease In Profits: {minimum}\")\n",
    "print(f\"Greatest Increase In Profits: {maximum}\")"
   ]
  },
  {
   "cell_type": "code",
   "execution_count": null,
   "id": "a018ba12-5672-4869-90f4-5292c3fffc12",
   "metadata": {},
   "outputs": [],
   "source": []
  }
 ],
 "metadata": {
  "kernelspec": {
   "display_name": "Python 3",
   "language": "python",
   "name": "python3"
  },
  "language_info": {
   "codemirror_mode": {
    "name": "ipython",
    "version": 3
   },
   "file_extension": ".py",
   "mimetype": "text/x-python",
   "name": "python",
   "nbconvert_exporter": "python",
   "pygments_lexer": "ipython3",
   "version": "3.8.8"
  }
 },
 "nbformat": 4,
 "nbformat_minor": 5
}
