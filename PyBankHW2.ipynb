{
 "cells": [
  {
   "cell_type": "code",
   "execution_count": 21,
   "id": "d64ee99c",
   "metadata": {},
   "outputs": [],
   "source": [
    "import csv\n",
    "from pathlib import Path\n",
    "import pandas as pd\n",
    "import numpy as np\n",
    "import os"
   ]
  },
  {
   "cell_type": "code",
   "execution_count": 22,
   "id": "781c2413",
   "metadata": {},
   "outputs": [],
   "source": [
    "csvpath = Path(\"budget_data.csv\")"
   ]
  },
  {
   "cell_type": "code",
   "execution_count": 23,
   "id": "106a5b85",
   "metadata": {},
   "outputs": [
    {
     "data": {
      "text/html": [
       "<div>\n",
       "<style scoped>\n",
       "    .dataframe tbody tr th:only-of-type {\n",
       "        vertical-align: middle;\n",
       "    }\n",
       "\n",
       "    .dataframe tbody tr th {\n",
       "        vertical-align: top;\n",
       "    }\n",
       "\n",
       "    .dataframe thead th {\n",
       "        text-align: right;\n",
       "    }\n",
       "</style>\n",
       "<table border=\"1\" class=\"dataframe\">\n",
       "  <thead>\n",
       "    <tr style=\"text-align: right;\">\n",
       "      <th></th>\n",
       "      <th>Date</th>\n",
       "      <th>Profit/Losses</th>\n",
       "    </tr>\n",
       "  </thead>\n",
       "  <tbody>\n",
       "    <tr>\n",
       "      <th>0</th>\n",
       "      <td>Jan-2010</td>\n",
       "      <td>867884</td>\n",
       "    </tr>\n",
       "    <tr>\n",
       "      <th>1</th>\n",
       "      <td>Feb-2010</td>\n",
       "      <td>984655</td>\n",
       "    </tr>\n",
       "    <tr>\n",
       "      <th>2</th>\n",
       "      <td>Mar-2010</td>\n",
       "      <td>322013</td>\n",
       "    </tr>\n",
       "    <tr>\n",
       "      <th>3</th>\n",
       "      <td>Apr-2010</td>\n",
       "      <td>-69417</td>\n",
       "    </tr>\n",
       "    <tr>\n",
       "      <th>4</th>\n",
       "      <td>May-2010</td>\n",
       "      <td>310503</td>\n",
       "    </tr>\n",
       "  </tbody>\n",
       "</table>\n",
       "</div>"
      ],
      "text/plain": [
       "       Date  Profit/Losses\n",
       "0  Jan-2010         867884\n",
       "1  Feb-2010         984655\n",
       "2  Mar-2010         322013\n",
       "3  Apr-2010         -69417\n",
       "4  May-2010         310503"
      ]
     },
     "execution_count": 23,
     "metadata": {},
     "output_type": "execute_result"
    }
   ],
   "source": [
    "budget_data = pd.read_csv(\"budget_data.csv\")\n",
    "budget_data.head()"
   ]
  },
  {
   "cell_type": "code",
   "execution_count": 24,
   "id": "8d3f57de",
   "metadata": {},
   "outputs": [],
   "source": [
    "month_totals = 0\n",
    "nettotal = 0\n",
    "month_of_change = []\n",
    "net_change_list = []\n",
    "greatest_increase = [\"\", 0]\n",
    "greatest_decrease = [\"\", 99999999]\n",
    "total = 0\n",
    "profit = []\n",
    "monthly_changes = []\n",
    "date = []\n",
    "count = 0\n",
    "total_profit = 0\n",
    "total_change_profits = 0\n",
    "initial_profit = 0\n",
    "total = 0"
   ]
  },
  {
   "cell_type": "code",
   "execution_count": 25,
   "id": "d69c361a",
   "metadata": {},
   "outputs": [],
   "source": [
    "with open(\"budget_data.csv\") as budget_data:\n",
    "    reader = csv.reader(budget_data)\n",
    "    \n",
    "    header = next(reader)\n",
    "      \n",
    "    \n",
    "    first_row = next(reader)\n",
    "    month_totals = month_totals + 1\n",
    "    nettotal = nettotal + int(first_row[1])\n",
    "    prev_net = int(first_row[1])\n",
    "    \n",
    "    for row in reader:\n",
    "        \n",
    "        month_totals = month_totals + 1\n",
    "        nettotal = nettotal + int(row[1])\n",
    "        net_change = int(row[1]) - prev_net\n",
    "        prev_net = int(row[1])\n",
    "        net_change_list = net_change_list + [net_change]\n",
    "        month_of_change = month_of_change + [row[0]]\n",
    "        \n",
    "    if net_change > greatest_increase[1]:\n",
    "            greatest_increase[0] = row[0]\n",
    "            greatest_increase[1] = net_change\n",
    "            \n",
    "    if net_change < greatest_decrease[1]:\n",
    "            greatest_decrease[0] = row[0]\n",
    "            greatest_decrease[1] = net_change"
   ]
  },
  {
   "cell_type": "code",
   "execution_count": 26,
   "id": "e92771f4",
   "metadata": {},
   "outputs": [],
   "source": [
    "net_monthly_avg = round(sum(net_change_list) / len(net_change_list),2)"
   ]
  },
  {
   "cell_type": "code",
   "execution_count": 27,
   "id": "77750369",
   "metadata": {},
   "outputs": [
    {
     "name": "stdout",
     "output_type": "stream",
     "text": [
      "Financial Analysis\n",
      "\n",
      "Total Months: 86\n",
      "\n",
      "Total: $38382578\n",
      "\n",
      "Ave Changes: $-2315.12\n",
      "\n",
      "Greatest Increase to profit: Feb-2017 ($532869)\n"
     ]
    }
   ],
   "source": [
    "print(f\"Financial Analysis\\n\")\n",
    "print(f\"Total Months: {month_totals}\\n\")\n",
    "print(f\"Total: ${nettotal}\\n\")\n",
    "print(f\"Ave Changes: ${net_monthly_avg}\\n\")\n",
    "print(f'Greatest Increase to profit: {greatest_increase[0]} (${greatest_increase[1]})')"
   ]
  },
  {
   "cell_type": "code",
   "execution_count": null,
   "id": "3c955243",
   "metadata": {},
   "outputs": [],
   "source": []
  },
  {
   "cell_type": "code",
   "execution_count": null,
   "id": "366ae582",
   "metadata": {},
   "outputs": [],
   "source": []
  }
 ],
 "metadata": {
  "kernelspec": {
   "display_name": "Python 3",
   "language": "python",
   "name": "python3"
  },
  "language_info": {
   "codemirror_mode": {
    "name": "ipython",
    "version": 3
   },
   "file_extension": ".py",
   "mimetype": "text/x-python",
   "name": "python",
   "nbconvert_exporter": "python",
   "pygments_lexer": "ipython3",
   "version": "3.8.8"
  }
 },
 "nbformat": 4,
 "nbformat_minor": 5
}
